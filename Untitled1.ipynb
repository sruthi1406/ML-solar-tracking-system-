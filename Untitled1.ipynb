{
 "cells": [
  {
   "cell_type": "code",
   "execution_count": 9,
   "id": "72268ccf-e596-4d8d-8b6e-dedb7828c3ce",
   "metadata": {},
   "outputs": [
    {
     "name": "stdout",
     "output_type": "stream",
     "text": [
      "\n",
      "📊 Best XGBoost MAE: 2.5749\n",
      "📈 Best XGBoost R² Score: 0.9921\n"
     ]
    }
   ],
   "source": [
    "import pandas as pd\n",
    "import numpy as np\n",
    "from sklearn.model_selection import train_test_split\n",
    "from sklearn.preprocessing import StandardScaler\n",
    "from xgboost import XGBRegressor\n",
    "from sklearn.metrics import mean_absolute_error, r2_score\n",
    "from pysolar.solar import get_altitude, get_azimuth\n",
    "import datetime\n",
    "import pytz\n",
    "\n",
    
    "df = pd.read_csv(\"C:/Users/Cyber/Desktop/solar project Ml/solar.csv\")\n",
    "\n",
    
    "df[\"Timestamp\"] = pd.to_datetime(df[\"Timestamp\"], utc=True)\n",
    "df[\"Hour\"] = df[\"Timestamp\"].dt.hour\n",
    "df[\"DayOfYear\"] = df[\"Timestamp\"].dt.dayofyear\n",
    "\n",
    "LATITUDE = 28.6139  # Example: New Delhi\n",
    "LONGITUDE = 77.2090\n",
    "TIMEZONE = \"Asia/Kolkata\"\n",
    "\n",
    "def compute_solar_angles(timestamp):\n",
    "    dt = timestamp.astimezone(pytz.timezone(TIMEZONE))  # Convert to local timezone\n",
    "    altitude = get_altitude(LATITUDE, LONGITUDE, dt)  # Solar Elevation Angle\n",
    "    azimuth = get_azimuth(LATITUDE, LONGITUDE, dt)  # Solar Azimuth Angle\n",
    "    return altitude, azimuth\n",
    "\n",
    "df[\"Solar_Elevation\"], df[\"Solar_Azimuth\"] = zip(*df[\"Timestamp\"].apply(compute_solar_angles))\n",
    "\n",
    "features = [\"Power\", \"Hour\"]\n",
    "X = df[features]\n",
    "y = df[\"Solar_Elevation\"]  # Replace with the actual target column name\n",
    "\n",
    "X_train, X_test, y_train, y_test = train_test_split(X, y, test_size=0.2, random_state=42)\n",
    "\n",
    "scaler = StandardScaler()\n",
    "X_train_scaled = scaler.fit_transform(X_train)\n",
    "X_test_scaled = scaler.transform(X_test)\n",
    "\n",
    "best_params = {\"n_estimators\": 300, \"max_depth\": 5, \"learning_rate\": 0.05, \"subsample\": 0.8, \"colsample_bytree\": 1.0}\n",
    "\n",
    "xgb_model = XGBRegressor(**best_params)\n",
    "xgb_model.fit(X_train_scaled, y_train)\n",
    "\n",
    "y_pred_xgb = xgb_model.predict(X_test_scaled)\n",
    "\n",
    "mae = mean_absolute_error(y_test, y_pred_xgb)\n",
    "r2 = r2_score(y_test, y_pred_xgb)\n",
    "print(f\"\\n📊 Best XGBoost MAE: {mae:.4f}\")\n",
    "print(f\"📈 Best XGBoost R² Score: {r2:.4f}\")\n"
   ]
  },
  {
   "cell_type": "code",
   "execution_count": 11,
   "id": "86bd2d9b-6e80-4dd4-ad84-d42638385f68",
   "metadata": {},
   "outputs": [
    {
     "data": {
      "text/plain": [
       "['scaler.pkl']"
      ]
     },
     "execution_count": 11,
     "metadata": {},
     "output_type": "execute_result"
    }
   ],
   "source": [
    "import joblib\n",
    "joblib.dump(xgb_model, \"solar1_model.pkl\")\n",
    "joblib.dump(scaler, \"scaler.pkl\")\n"
   ]
  },
  {
   "cell_type": "code",
   "execution_count": null,
   "id": "d80b120f-1433-4ccd-9432-41b82360edb6",
   "metadata": {},
   "outputs": [],
   "source": []
  }
 ],
 "metadata": {
  "kernelspec": {
   "display_name": "Python 3 (ipykernel)",
   "language": "python",
   "name": "python3"
  },
  "language_info": {
   "codemirror_mode": {
    "name": "ipython",
    "version": 3
   },
   "file_extension": ".py",
   "mimetype": "text/x-python",
   "name": "python",
   "nbconvert_exporter": "python",
   "pygments_lexer": "ipython3",
   "version": "3.12.4"
  }
 },
 "nbformat": 4,
 "nbformat_minor": 5
}
