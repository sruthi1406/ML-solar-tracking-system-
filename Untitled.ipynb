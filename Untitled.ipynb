{
 "cells": [
  {
   "cell_type": "code",
   "execution_count": 73,
   "id": "da1329fb-a078-4f18-b5d3-275e1b3fae6a",
   "metadata": {},
   "outputs": [
    {
     "name": "stdout",
     "output_type": "stream",
     "text": [
      "       Timestamp     Azimuth   Altitude  Cloud Cover  Temperature   Humidity  \\\n",
      "0  2/1/2025 6:00  203.110980  60.117183    81.572270    13.935645  50.246636   \n",
      "1  2/1/2025 6:15  146.577106  34.658505    46.221117    30.070428  89.583686   \n",
      "2  2/1/2025 6:30  257.490256  64.501169    87.563854    18.726721  80.219536   \n",
      "3  2/1/2025 6:45  165.655467  72.778797    27.886301    22.422837  44.438215   \n",
      "4  2/1/2025 7:00  188.542715  74.200359    46.054103    33.778870  49.742351   \n",
      "\n",
      "     Voltage   Current      Power  \n",
      "0  10.646707  1.638336  17.442881  \n",
      "1  12.384249  3.875122  47.990483  \n",
      "2  14.567360  4.720142  68.760006  \n",
      "3  10.451247  4.805969  50.228366  \n",
      "4  10.273825  2.395398  24.609905  \n"
     ]
    }
   ],
   "source": [
    "import pandas as pd\n",
    "\n",
    "df = pd.read_csv(\"C:/Users/Cyber/Desktop/solar project Ml/solar.csv\")\n",
    "\n",
    "print(df.head())\n"
   ]
  },
  {
   "cell_type": "code",
   "execution_count": 75,
   "id": "d9a89893-7adc-4d11-ad16-940d01846dd0",
   "metadata": {},
   "outputs": [
    {
     "name": "stdout",
     "output_type": "stream",
     "text": [
      "<class 'pandas.core.frame.DataFrame'>\n",
      "RangeIndex: 500 entries, 0 to 499\n",
      "Data columns (total 9 columns):\n",
      " #   Column       Non-Null Count  Dtype  \n",
      "---  ------       --------------  -----  \n",
      " 0   Timestamp    500 non-null    object \n",
      " 1   Azimuth      500 non-null    float64\n",
      " 2   Altitude     500 non-null    float64\n",
      " 3   Cloud Cover  500 non-null    float64\n",
      " 4   Temperature  500 non-null    float64\n",
      " 5   Humidity     500 non-null    float64\n",
      " 6   Voltage      500 non-null    float64\n",
      " 7   Current      500 non-null    float64\n",
      " 8   Power        500 non-null    float64\n",
      "dtypes: float64(8), object(1)\n",
      "memory usage: 35.3+ KB\n"
     ]
    }
   ],
   "source": [
    "df.info()"
   ]
  },
  {
   "cell_type": "code",
   "execution_count": 77,
   "id": "5ecf27c9-ff16-4496-ab92-53f17668b9ae",
   "metadata": {},
   "outputs": [
    {
     "data": {
      "text/plain": [
       "(500, 9)"
      ]
     },
     "execution_count": 77,
     "metadata": {},
     "output_type": "execute_result"
    }
   ],
   "source": [
    "df.shape"
   ]
  },
  {
   "cell_type": "code",
   "execution_count": 79,
   "id": "f17b5ba8-9b43-4423-b81f-816adc074ee5",
   "metadata": {},
   "outputs": [
    {
     "data": {
      "text/html": [
       "<div>\n",
       "<style scoped>\n",
       "    .dataframe tbody tr th:only-of-type {\n",
       "        vertical-align: middle;\n",
       "    }\n",
       "\n",
       "    .dataframe tbody tr th {\n",
       "        vertical-align: top;\n",
       "    }\n",
       "\n",
       "    .dataframe thead th {\n",
       "        text-align: right;\n",
       "    }\n",
       "</style>\n",
       "<table border=\"1\" class=\"dataframe\">\n",
       "  <thead>\n",
       "    <tr style=\"text-align: right;\">\n",
       "      <th></th>\n",
       "      <th>Azimuth</th>\n",
       "      <th>Altitude</th>\n",
       "      <th>Cloud Cover</th>\n",
       "      <th>Temperature</th>\n",
       "      <th>Humidity</th>\n",
       "      <th>Voltage</th>\n",
       "      <th>Current</th>\n",
       "      <th>Power</th>\n",
       "    </tr>\n",
       "  </thead>\n",
       "  <tbody>\n",
       "    <tr>\n",
       "      <th>count</th>\n",
       "      <td>500.000000</td>\n",
       "      <td>500.000000</td>\n",
       "      <td>500.000000</td>\n",
       "      <td>500.000000</td>\n",
       "      <td>500.000000</td>\n",
       "      <td>500.000000</td>\n",
       "      <td>500.000000</td>\n",
       "      <td>500.000000</td>\n",
       "    </tr>\n",
       "    <tr>\n",
       "      <th>mean</th>\n",
       "      <td>180.015712</td>\n",
       "      <td>46.419929</td>\n",
       "      <td>52.273781</td>\n",
       "      <td>22.403972</td>\n",
       "      <td>55.489370</td>\n",
       "      <td>12.415945</td>\n",
       "      <td>2.809974</td>\n",
       "      <td>34.847859</td>\n",
       "    </tr>\n",
       "    <tr>\n",
       "      <th>std</th>\n",
       "      <td>52.217228</td>\n",
       "      <td>26.689437</td>\n",
       "      <td>29.081073</td>\n",
       "      <td>7.162688</td>\n",
       "      <td>20.196220</td>\n",
       "      <td>1.468544</td>\n",
       "      <td>1.266077</td>\n",
       "      <td>16.310238</td>\n",
       "    </tr>\n",
       "    <tr>\n",
       "      <th>min</th>\n",
       "      <td>91.112415</td>\n",
       "      <td>0.074141</td>\n",
       "      <td>0.209537</td>\n",
       "      <td>10.019058</td>\n",
       "      <td>20.020135</td>\n",
       "      <td>10.013497</td>\n",
       "      <td>0.508695</td>\n",
       "      <td>5.783477</td>\n",
       "    </tr>\n",
       "    <tr>\n",
       "      <th>25%</th>\n",
       "      <td>133.881410</td>\n",
       "      <td>23.265998</td>\n",
       "      <td>25.870215</td>\n",
       "      <td>16.295173</td>\n",
       "      <td>37.731668</td>\n",
       "      <td>11.179554</td>\n",
       "      <td>1.799985</td>\n",
       "      <td>21.790369</td>\n",
       "    </tr>\n",
       "    <tr>\n",
       "      <th>50%</th>\n",
       "      <td>179.626262</td>\n",
       "      <td>46.614596</td>\n",
       "      <td>53.661815</td>\n",
       "      <td>22.059926</td>\n",
       "      <td>54.776673</td>\n",
       "      <td>12.294113</td>\n",
       "      <td>2.848824</td>\n",
       "      <td>34.104227</td>\n",
       "    </tr>\n",
       "    <tr>\n",
       "      <th>75%</th>\n",
       "      <td>227.096992</td>\n",
       "      <td>70.613380</td>\n",
       "      <td>78.613473</td>\n",
       "      <td>28.442810</td>\n",
       "      <td>73.897741</td>\n",
       "      <td>13.764036</td>\n",
       "      <td>3.872861</td>\n",
       "      <td>47.610520</td>\n",
       "    </tr>\n",
       "    <tr>\n",
       "      <th>max</th>\n",
       "      <td>269.815091</td>\n",
       "      <td>89.933722</td>\n",
       "      <td>99.966397</td>\n",
       "      <td>34.999954</td>\n",
       "      <td>89.804165</td>\n",
       "      <td>14.993119</td>\n",
       "      <td>4.998199</td>\n",
       "      <td>71.968178</td>\n",
       "    </tr>\n",
       "  </tbody>\n",
       "</table>\n",
       "</div>"
      ],
      "text/plain": [
       "          Azimuth    Altitude  Cloud Cover  Temperature    Humidity  \\\n",
       "count  500.000000  500.000000   500.000000   500.000000  500.000000   \n",
       "mean   180.015712   46.419929    52.273781    22.403972   55.489370   \n",
       "std     52.217228   26.689437    29.081073     7.162688   20.196220   \n",
       "min     91.112415    0.074141     0.209537    10.019058   20.020135   \n",
       "25%    133.881410   23.265998    25.870215    16.295173   37.731668   \n",
       "50%    179.626262   46.614596    53.661815    22.059926   54.776673   \n",
       "75%    227.096992   70.613380    78.613473    28.442810   73.897741   \n",
       "max    269.815091   89.933722    99.966397    34.999954   89.804165   \n",
       "\n",
       "          Voltage     Current       Power  \n",
       "count  500.000000  500.000000  500.000000  \n",
       "mean    12.415945    2.809974   34.847859  \n",
       "std      1.468544    1.266077   16.310238  \n",
       "min     10.013497    0.508695    5.783477  \n",
       "25%     11.179554    1.799985   21.790369  \n",
       "50%     12.294113    2.848824   34.104227  \n",
       "75%     13.764036    3.872861   47.610520  \n",
       "max     14.993119    4.998199   71.968178  "
      ]
     },
     "execution_count": 79,
     "metadata": {},
     "output_type": "execute_result"
    }
   ],
   "source": [
    "df.describe()"
   ]
  },
  {
   "cell_type": "code",
   "execution_count": 23,
   "id": "8d88b12b-1898-4d11-9fa8-3beb18bcdd85",
   "metadata": {},
   "outputs": [
    {
     "data": {
      "text/plain": [
       "Timestamp      0\n",
       "Azimuth        0\n",
       "Altitude       0\n",
       "Cloud Cover    0\n",
       "Temperature    0\n",
       "Humidity       0\n",
       "Voltage        0\n",
       "Current        0\n",
       "Power          0\n",
       "dtype: int64"
      ]
     },
     "execution_count": 23,
     "metadata": {},
     "output_type": "execute_result"
    }
   ],
   "source": [
    "df.isnull().sum()"
   ]
  },
  {
   "cell_type": "code",
   "execution_count": 81,
   "id": "0a2f722d-1349-4808-a4d1-df3706ceafb2",
   "metadata": {},
   "outputs": [],
   "source": [
    "df[\"Timestamp\"] = pd.to_datetime(df[\"Timestamp\"])"
   ]
  },
  {
   "cell_type": "code",
   "execution_count": 83,
   "id": "7509bec0-ebf8-4916-a668-8127d87271ee",
   "metadata": {},
   "outputs": [],
   "source": [
    "# Extract time-based features\n",
    "df[\"Hour\"] = df[\"Timestamp\"].dt.hour\n",
    "df[\"DayOfYear\"] = df[\"Timestamp\"].dt.dayofyear\n"
   ]
  },
  {
   "cell_type": "code",
   "execution_count": 33,
   "id": "4806031f-50ea-4f84-b7cc-2c32d0446578",
   "metadata": {},
   "outputs": [
    {
     "name": "stdout",
     "output_type": "stream",
     "text": [
      "    Azimuth  Altitude  Cloud Cover  Temperature  Humidity   Voltage   Current  \\\n",
      "0  0.626731  0.668187     0.815610     0.156783  0.433144  0.127160  0.251618   \n",
      "1  0.310374  0.384871     0.461237     0.802668  0.996841  0.476091  0.749844   \n",
      "2  0.931032  0.716975     0.875672     0.348573  0.862653  0.914500  0.938065   \n",
      "3  0.417135  0.809092     0.277442     0.496531  0.349909  0.087908  0.957182   \n",
      "4  0.545209  0.824912     0.459563     0.951119  0.425917  0.052279  0.420248   \n",
      "\n",
      "      Power      Hour  DayOfYear  \n",
      "0  0.176165  0.260870        0.0  \n",
      "1  0.637715  0.260870        0.0  \n",
      "2  0.951527  0.260870        0.0  \n",
      "3  0.671528  0.260870        0.0  \n",
      "4  0.284453  0.304348        0.0  \n"
     ]
    }
   ],
   "source": [
    "from sklearn.preprocessing import MinMaxScaler\n",
    "\n",
    "scaler = MinMaxScaler()\n",
    "df_scaled = pd.DataFrame(scaler.fit_transform(df), columns=df.columns)\n",
    "\n",
    "print(df_scaled.head())  # Check scaled data\n"
   ]
  },
  {
   "cell_type": "code",
   "execution_count": 35,
   "id": "44f6a625-03cc-48d7-b073-c4d5b420363b",
   "metadata": {},
   "outputs": [],
   "source": [
    "X = df_scaled.drop(columns=[\"Altitude\"])  # Features (input)\n",
    "y = df_scaled[\"Altitude\"]  # Target variable (output)\n"
   ]
  },
  {
   "cell_type": "code",
   "execution_count": 37,
   "id": "5888b16d-db98-4396-b57d-b5901c57f26b",
   "metadata": {},
   "outputs": [],
   "source": [
    "from sklearn.model_selection import train_test_split\n",
    "\n",
    "X_train, X_test, y_train, y_test = train_test_split(X, y, test_size=0.2, random_state=42)\n"
   ]
  },
  {
   "cell_type": "code",
   "execution_count": 55,
   "id": "32fa1e3c-c5f0-4641-abd6-2326bf4b701c",
   "metadata": {},
   "outputs": [
    {
     "name": "stdout",
     "output_type": "stream",
     "text": [
      "XGBoost R² Score: -0.2110\n"
     ]
    }
   ],
   "source": [
    "from xgboost import XGBRegressor\n",
    "\n",
    "xgb_model = XGBRegressor(n_estimators=200, learning_rate=0.05)\n",
    "xgb_model.fit(X_train, y_train)\n",
    "\n",
    "y_pred_xgb = xgb_model.predict(X_test)\n",
    "\n",
    "print(f\"XGBoost R² Score: {r2_score(y_test, y_pred_xgb):.4f}\")\n"
   ]
  },
  {
   "cell_type": "code",
   "execution_count": 59,
   "id": "53c3be33-412b-41a2-a16f-16dbc65a8960",
   "metadata": {},
   "outputs": [
    {
     "data": {
      "image/png": "[encoded data removed]",
      "text/plain": [
       "<Figure size 1000x500 with 1 Axes>"
      ]
     },
     "metadata": {},
     "output_type": "display_data"
    }
   ],
   "source": [
    "import matplotlib.pyplot as plt\n",
    "import numpy as np\n",
    "\n",
    "feature_importance = xgb_model.feature_importances_\n",
    "feature_names = X_train.columns\n",
    "\n",
 
    "sorted_idx = np.argsort(feature_importance)\n",
    "\n",
    
    "plt.figure(figsize=(10, 5))\n",
    "plt.barh(np.array(feature_names)[sorted_idx], feature_importance[sorted_idx])\n",
    "plt.xlabel(\"Feature Importance\")\n",
    "plt.ylabel(\"Feature Name\")\n",
    "plt.title(\"Feature Importance in Solar Tracking Model\")\n",
    "plt.show()\n"
   ]
  },
  {
   "cell_type": "code",
   "execution_count": 65,
   "id": "17fd294c-dae3-49e8-aca4-e681da7a8c87",
   "metadata": {},
   "outputs": [
    {
     "name": "stdout",
     "output_type": "stream",
     "text": [
      "Best Parameters: {'colsample_bytree': 0.8, 'learning_rate': 0.01, 'max_depth': 3, 'n_estimators': 100, 'subsample': 0.8}\n"
     ]
    }
   ],
   "source": [
    "from sklearn.model_selection import GridSearchCV\n",
    "\n",
    "param_grid = {\n",
    "    \"n_estimators\": [100, 200, 300],\n",
    "    \"max_depth\": [3, 5, 7, 10],\n",
    "    \"learning_rate\": [0.01, 0.05, 0.1],\n",
    "    \"subsample\": [0.8, 1.0],\n",
    "    \"colsample_bytree\": [0.8, 1.0]\n",
    "}\n",
    "\n",
    "grid_search = GridSearchCV(XGBRegressor(), param_grid, cv=3, scoring=\"r2\", n_jobs=-1)\n",
    "grid_search.fit(X_train, y_train)\n",
    "\n",
    "best_model = grid_search.best_estimator_\n",
    "print(\"Best Parameters:\", grid_search.best_params_)\n"
   ]
  },
  {
   "cell_type": "code",
   "execution_count": 67,
   "id": "ac57abc1-c6cd-4456-939b-6d57b941571b",
   "metadata": {},
   "outputs": [
    {
     "name": "stdout",
     "output_type": "stream",
     "text": [
      "📊 XGBoost MAE after feature selection: 0.2441\n",
      "📈 XGBoost R² Score after feature selection: -0.1386\n"
     ]
    }
   ],
   "source": [
   
    "X_train_reduced = X_train.drop(columns=[\"Azimuth\", \"Temperature\"])\n",
    "X_test_reduced = X_test.drop(columns=[\"Azimuth\", \"Temperature\"])\n",
    "\n",
  
    "xgb_model.fit(X_train_reduced, y_train)\n",
    "\n",
   
    "y_pred_xgb = xgb_model.predict(X_test_reduced)\n",
    "\n",
    
    "from sklearn.metrics import mean_absolute_error, r2_score\n",
    "\n",
    "print(f\"📊 XGBoost MAE after feature selection: {mean_absolute_error(y_test, y_pred_xgb):.4f}\")\n",
    "print(f\"📈 XGBoost R² Score after feature selection: {r2_score(y_test, y_pred_xgb):.4f}\")\n"
   ]
  },
  {
   "cell_type": "code",
   "execution_count": 69,
   "id": "067a9300-a290-44d0-8835-89d4d205fea6",
   "metadata": {},
   "outputs": [
    {
     "name": "stdout",
     "output_type": "stream",
     "text": [
      "Collecting pysolar\n",
      "  Downloading pysolar-0.13-py3-none-any.whl.metadata (358 bytes)\n",
      "Requirement already satisfied: numpy in c:\\users\\cyber\\anaconda3\\lib\\site-packages (from pysolar) (1.26.4)\n",
      "Downloading pysolar-0.13-py3-none-any.whl (46 kB)\n",
      "   ---------------------------------------- 0.0/46.9 kB ? eta -:--:--\n",
      "   ----------------- ---------------------- 20.5/46.9 kB 682.7 kB/s eta 0:00:01\n",
      "   ---------------------------------------- 46.9/46.9 kB 591.8 kB/s eta 0:00:00\n",
      "Installing collected packages: pysolar\n",
      "Successfully installed pysolar-0.13\n",
      "Note: you may need to restart the kernel to use updated packages.\n"
     ]
    }
   ],
   "source": [
    "pip install pysolar\n"
   ]
  },
  {
   "cell_type": "code",
   "execution_count": 99,
   "id": "a9fa278b-e115-4f8a-b0ab-5f5fa9c2a8e5",
   "metadata": {},
   "outputs": [
    {
     "name": "stdout",
     "output_type": "stream",
     "text": [
      "\n",
      "📊 Best XGBoost MAE: 1.1152\n",
      "📈 Best XGBoost R² Score: 0.9984\n"
     ]
    }
   ],
   "source": [
    "import pandas as pd\n",
    "import numpy as np\n",
    "from sklearn.model_selection import train_test_split\n",
    "from sklearn.preprocessing import StandardScaler\n",
    "from xgboost import XGBRegressor\n",
    "from sklearn.metrics import mean_absolute_error, r2_score\n",
    "from pysolar.solar import get_altitude, get_azimuth\n",
    "import datetime\n",
    "import pytz\n",
    "\n",
 
    "df = pd.read_csv(\"C:/Users/Cyber/Desktop/solar project Ml/solar.csv\")\n",
    "\n",
   
    "df[\"Timestamp\"] = pd.to_datetime(df[\"Timestamp\"], utc=True)\n",
    "df[\"Hour\"] = df[\"Timestamp\"].dt.hour\n",
    "df[\"DayOfYear\"] = df[\"Timestamp\"].dt.dayofyear\n",
    "\n",
  
    "LATITUDE = 28.6139  # Example: New Delhi\n",
    "LONGITUDE = 77.2090\n",
    "TIMEZONE = \"Asia/Kolkata\"\n",
    "\n",
    "def compute_solar_angles(timestamp):\n",
    "    dt = timestamp.astimezone(pytz.timezone(TIMEZONE))  # Convert to local timezone\n",
    "    altitude = get_altitude(LATITUDE, LONGITUDE, dt)  # Solar Elevation Angle\n",
    "    azimuth = get_azimuth(LATITUDE, LONGITUDE, dt)  # Solar Azimuth Angle\n",
    "    return altitude, azimuth\n",
    "\n",
    
    "df[\"Solar_Elevation\"], df[\"Solar_Azimuth\"] = zip(*df[\"Timestamp\"].apply(compute_solar_angles))\n",
    "\n",
    "# Feature selection (drop weak features)\n",
    "features = [\"Power\", \"Hour\", \"Solar_Azimuth\"]\n",
    "X = df[features]\n",
    "y = df[\"Solar_Elevation\"]  # Replace with the actual target column name\n",
    "\n",
    
    "X_train, X_test, y_train, y_test = train_test_split(X, y, test_size=0.2, random_state=42)\n",
    "\n",
    
    "scaler = StandardScaler()\n",
    "X_train_scaled = scaler.fit_transform(X_train)\n",
    "X_test_scaled = scaler.transform(X_test)\n",
    "\n",
   
    "best_params = {\"n_estimators\": 300, \"max_depth\": 5, \"learning_rate\": 0.05, \"subsample\": 0.8, \"colsample_bytree\": 1.0}\n",
    "\n",
   
    "xgb_model = XGBRegressor(**best_params)\n",
    "xgb_model.fit(X_train_scaled, y_train)\n",
    "\n",
    
    "y_pred_xgb = xgb_model.predict(X_test_scaled)\n",
    "\n",
   
    "mae = mean_absolute_error(y_test, y_pred_xgb)\n",
    "r2 = r2_score(y_test, y_pred_xgb)\n",
    "print(f\"\\n📊 Best XGBoost MAE: {mae:.4f}\")\n",
    "print(f\"📈 Best XGBoost R² Score: {r2:.4f}\")\n"
   ]
  },
  {
   "cell_type": "code",
   "execution_count": null,
   "id": "4880f426-52ad-40a9-b57a-7a0643bfd076",
   "metadata": {},
   "outputs": [],
   "source": []
  },
  {
   "cell_type": "code",
   "execution_count": 97,
   "id": "a8cbcefb-307c-4714-aba2-c509deb378e3",
   "metadata": {},
   "outputs": [
    {
     "data": {
      "text/plain": [
       "['scaler.pkl']"
      ]
     },
     "execution_count": 97,
     "metadata": {},
     "output_type": "execute_result"
    }
   ],
   "source": [
    "import joblib\n",
    "joblib.dump(xgb_model, \"solar_model.pkl\")\n",
    "joblib.dump(scaler, \"scaler.pkl\")\n"
   ]
  },
  {
   "cell_type": "code",
   "execution_count": null,
   "id": "e14930fe-8e7a-4aa9-bdb0-17e4f476386b",
   "metadata": {},
   "outputs": [],
   "source": []
  }
 ],
 "metadata": {
  "kernelspec": {
   "display_name": "Python 3 (ipykernel)",
   "language": "python",
   "name": "python3"
  },
  "language_info": {
   "codemirror_mode": {
    "name": "ipython",
    "version": 3
   },
   "file_extension": ".py",
   "mimetype": "text/x-python",
   "name": "python",
   "nbconvert_exporter": "python",
   "pygments_lexer": "ipython3",
   "version": "3.12.4"
  }
 },
 "nbformat": 4,
 "nbformat_minor": 5
}
